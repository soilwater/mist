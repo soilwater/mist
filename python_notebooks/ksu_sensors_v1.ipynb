{
 "cells": [
  {
   "cell_type": "code",
   "execution_count": null,
   "id": "2eaeef33-2441-4a8b-afcb-81903ee2ef5a",
   "metadata": {},
   "outputs": [],
   "source": [
    "# Graph sensor observations for K-State testbeds\n",
    "# AP - Novemeber 2022\n"
   ]
  },
  {
   "cell_type": "code",
   "execution_count": 18,
   "id": "355d93c7-4925-4ca6-a3b7-c05ad9d812d4",
   "metadata": {},
   "outputs": [],
   "source": [
    "# Import modules\n",
    "import pandas as pd\n",
    "import matplotlib.pyplot as plt\n",
    "from ipywidgets import interact\n"
   ]
  },
  {
   "cell_type": "code",
   "execution_count": 11,
   "id": "fe6e5d7d-3284-4014-b611-6d6779f44b37",
   "metadata": {},
   "outputs": [],
   "source": [
    "def load_sensor_data(sensor):\n",
    "    \n",
    "    # Root URL for the repository data\n",
    "    root = \"https://raw.githubusercontent.com/soilwater/mist/main/data/Kansas_State_University\"\n",
    "    site_1 = pd.read_csv(f'{root}/CR300-23667_Table_{sensor}.dat',skiprows=[0,2,3],parse_dates=[0], na_values=\"NAN\")\n",
    "    site_2 = pd.read_csv(f'{root}/CR300-10553_Table_{sensor}.dat',skiprows=[0,2,3],parse_dates=[0], na_values=\"NAN\")\n",
    "    site_3 = pd.read_csv(f'{root}/CR300-23666_Table_{sensor}.dat',skiprows=[0,2,3],parse_dates=[0], na_values=\"NAN\")\n",
    "    \n",
    "    # Read units from one of the sites\n",
    "    units = pd.read_csv(f'{root}/CR300-23667_Table_{sensor}.dat', skiprows=1, nrows=1, na_values=\"NAN\").iloc[0].values\n",
    "    \n",
    "    skip_cols = 6\n",
    "    variables = list(site_1.columns[skip_cols:])\n",
    "    N = len(variables)\n",
    "    \n",
    "    fig, axs = plt.subplots(N, figsize=(15,4*N),squeeze=False)\n",
    "    for k,var in enumerate(variables):\n",
    "        axs[k,0].set_title(var.upper())\n",
    "        axs[k,0].plot(site_1['TIMESTAMP'], site_1[var], label='Site 1')\n",
    "        axs[k,0].plot(site_2['TIMESTAMP'], site_2[var], label='Site 2')\n",
    "        axs[k,0].plot(site_3['TIMESTAMP'], site_3[var], label='Site 3')\n",
    "        axs[k,0].set_ylabel(units[k+skip_cols])\n",
    "        axs[k,0].legend()\n",
    "        \n",
    "    return axs;\n"
   ]
  },
  {
   "cell_type": "code",
   "execution_count": null,
   "id": "f328031f-2920-4ea7-91aa-d62e4b2c529d",
   "metadata": {},
   "outputs": [],
   "source": [
    "from bokeh.plotting import figure, show, output_notebook\n",
    "from bokeh.layouts import column\n",
    "output_notebook()"
   ]
  },
  {
   "cell_type": "code",
   "execution_count": null,
   "id": "0ea7880d-da4c-4fb6-9f32-00f68245ff1e",
   "metadata": {},
   "outputs": [],
   "source": [
    "def load_sensor_data2(sensor):\n",
    "\n",
    "    # Root URL for the repository data\n",
    "    root = \"https://raw.githubusercontent.com/soilwater/mist/main/data/Kansas_State_University\"\n",
    "    site_1 = pd.read_csv(f'{root}/CR300-23667_Table_{sensor}.dat',skiprows=[0,2,3],parse_dates=[0], na_values=\"NAN\")\n",
    "    site_2 = pd.read_csv(f'{root}/CR300-10553_Table_{sensor}.dat',skiprows=[0,2,3],parse_dates=[0], na_values=\"NAN\")\n",
    "    site_3 = pd.read_csv(f'{root}/CR300-23666_Table_{sensor}.dat',skiprows=[0,2,3],parse_dates=[0], na_values=\"NAN\")\n",
    "    \n",
    "    # Read units from one of the sites\n",
    "    units = pd.read_csv(f'{root}/CR300-23667_Table_{sensor}.dat', skiprows=1, nrows=1, na_values=\"NAN\").iloc[0].values\n",
    "    \n",
    "    skip_cols = 6\n",
    "    variables = list(site_1.columns[skip_cols:])\n",
    "    units = units[skip_cols:]\n",
    "    N = len(variables)\n",
    "\n",
    "    PLOTS = []\n",
    "    for k,var in enumerate(variables):\n",
    "        p = figure(width=1000, height=250, x_axis_type='datetime')\n",
    "        p.line(site_1['TIMESTAMP'], site_1[var], color='navy', legend_label='Site 1')\n",
    "        p.line(site_2['TIMESTAMP'], site_2[var], color='tomato', legend_label='Site 2')\n",
    "        p.line(site_3['TIMESTAMP'], site_3[var], color='green', legend_label='Site 3')\n",
    "        p.yaxis.axis_label = units[k]\n",
    "        p.legend.location = \"bottom_left\"\n",
    "        p.legend.click_policy=\"hide\"\n",
    "        PLOTS.append(p)\n",
    "        \n",
    "    return show(column(PLOTS))\n"
   ]
  },
  {
   "cell_type": "code",
   "execution_count": 12,
   "id": "fa0a1f6e-03a3-41ef-9846-2339f531899d",
   "metadata": {},
   "outputs": [
    {
     "name": "stdout",
     "output_type": "stream",
     "text": [
      "ffw\n"
     ]
    },
    {
     "data": {
      "application/vnd.jupyter.widget-view+json": {
       "model_id": "d96d0fbda7454097b8a9446084592f56",
       "version_major": 2,
       "version_minor": 0
      },
      "text/plain": [
       "interactive(children=(Output(),), _dom_classes=('widget-interact',))"
      ]
     },
     "metadata": {},
     "output_type": "display_data"
    }
   ],
   "source": [
    "# Dropdown menu to select a specific sensor\n",
    "select_sensor = interact(lambda: print('ffw'),\n",
    "                         sensor=['Batt','Acclima','CS655','DrillDrop','GroPoint','SoilVue','Hydraprobe','Thetaprobe','Teros12','Teros21','TE525MM'])\n"
   ]
  },
  {
   "cell_type": "code",
   "execution_count": 19,
   "id": "40528343-eeb6-4d3d-a11c-ed234dcd4768",
   "metadata": {},
   "outputs": [
    {
     "data": {
      "text/plain": [
       "10"
      ]
     },
     "metadata": {},
     "output_type": "display_data"
    },
    {
     "data": {
      "application/vnd.jupyter.widget-view+json": {
       "model_id": "3f4fb179a9364459aaecdcc748d8d077",
       "version_major": 2,
       "version_minor": 0
      },
      "text/plain": [
       "interactive(children=(IntSlider(value=10, description='x', max=30, min=-10), Output()), _dom_classes=('widget-…"
      ]
     },
     "metadata": {},
     "output_type": "display_data"
    },
    {
     "data": {
      "text/plain": [
       "<function __main__.f(x)>"
      ]
     },
     "execution_count": 19,
     "metadata": {},
     "output_type": "execute_result"
    }
   ],
   "source": [
    "def f(x):\n",
    "    return x\n",
    "interact(f, x=10)"
   ]
  }
 ],
 "metadata": {
  "kernelspec": {
   "display_name": "Python 3 (ipykernel)",
   "language": "python",
   "name": "python3"
  },
  "language_info": {
   "codemirror_mode": {
    "name": "ipython",
    "version": 3
   },
   "file_extension": ".py",
   "mimetype": "text/x-python",
   "name": "python",
   "nbconvert_exporter": "python",
   "pygments_lexer": "ipython3",
   "version": "3.9.12"
  }
 },
 "nbformat": 4,
 "nbformat_minor": 5
}
