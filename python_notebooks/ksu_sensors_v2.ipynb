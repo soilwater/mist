{
 "cells": [
  {
   "cell_type": "code",
   "execution_count": null,
   "id": "80021ca4-3ad0-46c8-a695-021b530b538b",
   "metadata": {},
   "outputs": [],
   "source": [
    "# Import modules\n",
    "import pandas as pd\n",
    "import matplotlib.pyplot as plt\n",
    "from ipywidgets import interact\n",
    "import glob\n"
   ]
  },
  {
   "cell_type": "code",
   "execution_count": 1,
   "id": "1bba0967-7f48-45a7-8672-c085afd0380e",
   "metadata": {},
   "outputs": [
    {
     "ename": "NameError",
     "evalue": "name 'glob' is not defined",
     "output_type": "error",
     "traceback": [
      "\u001b[0;31m---------------------------------------------------------------------------\u001b[0m",
      "\u001b[0;31mNameError\u001b[0m                                 Traceback (most recent call last)",
      "Input \u001b[0;32mIn [1]\u001b[0m, in \u001b[0;36m<cell line: 7>\u001b[0;34m()\u001b[0m\n\u001b[1;32m      2\u001b[0m sites \u001b[38;5;241m=\u001b[39m{\u001b[38;5;124m'\u001b[39m\u001b[38;5;124mCR300-23667\u001b[39m\u001b[38;5;124m'\u001b[39m:{\u001b[38;5;124m'\u001b[39m\u001b[38;5;124mname\u001b[39m\u001b[38;5;124m'\u001b[39m:\u001b[38;5;124m'\u001b[39m\u001b[38;5;124mSite 1\u001b[39m\u001b[38;5;124m'\u001b[39m},\n\u001b[1;32m      3\u001b[0m         \u001b[38;5;124m'\u001b[39m\u001b[38;5;124mCR300-10553\u001b[39m\u001b[38;5;124m'\u001b[39m:{\u001b[38;5;124m'\u001b[39m\u001b[38;5;124mname\u001b[39m\u001b[38;5;124m'\u001b[39m:\u001b[38;5;124m'\u001b[39m\u001b[38;5;124mSite 2\u001b[39m\u001b[38;5;124m'\u001b[39m}, \n\u001b[1;32m      4\u001b[0m         \u001b[38;5;124m'\u001b[39m\u001b[38;5;124mCR300-23666\u001b[39m\u001b[38;5;124m'\u001b[39m:{\u001b[38;5;124m'\u001b[39m\u001b[38;5;124mname\u001b[39m\u001b[38;5;124m'\u001b[39m:\u001b[38;5;124m'\u001b[39m\u001b[38;5;124mSite 3\u001b[39m\u001b[38;5;124m'\u001b[39m}}\n\u001b[1;32m      6\u001b[0m github_root \u001b[38;5;241m=\u001b[39m \u001b[38;5;124m\"\u001b[39m\u001b[38;5;124mhttps://raw.githubusercontent.com/soilwater/mist/main/data/Kansas_State_University/\u001b[39m\u001b[38;5;124m\"\u001b[39m\n\u001b[0;32m----> 7\u001b[0m files \u001b[38;5;241m=\u001b[39m \u001b[43mglob\u001b[49m\u001b[38;5;241m.\u001b[39mglob(\u001b[38;5;124m'\u001b[39m\u001b[38;5;124m../data/Kansas_State_University/*.dat\u001b[39m\u001b[38;5;124m'\u001b[39m)\n\u001b[1;32m     10\u001b[0m links \u001b[38;5;241m=\u001b[39m {}\n\u001b[1;32m     11\u001b[0m \u001b[38;5;28;01mfor\u001b[39;00m file \u001b[38;5;129;01min\u001b[39;00m files:\n",
      "\u001b[0;31mNameError\u001b[0m: name 'glob' is not defined"
     ]
    }
   ],
   "source": [
    "# Create URL links to each variable\n",
    "sites ={'CR300-23667':{'name':'Site 1'},\n",
    "        'CR300-10553':{'name':'Site 2'}, \n",
    "        'CR300-23666':{'name':'Site 3'}}\n",
    "\n",
    "github_root = \"https://raw.githubusercontent.com/soilwater/mist/main/data/Kansas_State_University/\"\n",
    "files = glob.glob('../data/Kansas_State_University/*.dat')\n",
    "\n",
    "\n",
    "links = {}\n",
    "for file in files:\n",
    "    file_parts = file.split('/')\n",
    "    file_name = file_parts[-1]\n",
    "    sensor = file_name.split('_')[-1][:-4]\n",
    "    logger = file.split('/')[-1].split('_')[0]\n",
    "    site_index = list(sites.keys()).index(logger)\n",
    "    \n",
    "    url = github_root + file_name\n",
    "    \n",
    "    df = pd.read_csv(file,skiprows=[0,2,3],parse_dates=[0], na_values=\"NAN\")\n",
    "    units = pd.read_csv(file, skiprows=1, nrows=1, na_values=\"NAN\").iloc[0].values[skip_cols:]\n",
    "\n",
    "    skip_cols = 6\n",
    "    variables = list(df.columns[skip_cols:])\n",
    "    for k,v in enumerate(variables):\n",
    "        if 'Temp' in v or 'VWC' in v or 'EC' in v or 'sal' in v:\n",
    "            label = 'KSU ' + sites[logger]['name'] + ' ' + v\n",
    "            links[label] = {}\n",
    "            links[label]['url'] = url\n",
    "            links[label]['var'] = v\n",
    "            links[label]['units'] = units[k]\n",
    "        else:\n",
    "            continue"
   ]
  },
  {
   "cell_type": "code",
   "execution_count": null,
   "id": "3570863e-55ec-4546-aac0-ca9438e952da",
   "metadata": {},
   "outputs": [],
   "source": [
    "links['KSU Site 1 Acclima_EC_20']"
   ]
  },
  {
   "cell_type": "code",
   "execution_count": null,
   "id": "dbfc665b-8a67-48e5-b4b4-ad6f9af6e89f",
   "metadata": {},
   "outputs": [],
   "source": [
    "df = pd.read_csv(links[label]['url'],skiprows=[0,2,3],parse_dates=[0], na_values=\"NAN\")\n",
    "x = df['TIMESTAMP']\n",
    "y = df[links[label][var]]"
   ]
  }
 ],
 "metadata": {
  "kernelspec": {
   "display_name": "Python 3 (ipykernel)",
   "language": "python",
   "name": "python3"
  },
  "language_info": {
   "codemirror_mode": {
    "name": "ipython",
    "version": 3
   },
   "file_extension": ".py",
   "mimetype": "text/x-python",
   "name": "python",
   "nbconvert_exporter": "python",
   "pygments_lexer": "ipython3",
   "version": "3.9.12"
  }
 },
 "nbformat": 4,
 "nbformat_minor": 5
}
