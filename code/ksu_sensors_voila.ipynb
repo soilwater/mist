{
 "cells": [
  {
   "cell_type": "code",
   "execution_count": 3,
   "id": "a9e103b8-350a-4630-b4ac-f98d73bee00f",
   "metadata": {},
   "outputs": [],
   "source": [
    "# Import modules\n",
    "import pandas as pd\n",
    "import matplotlib.pyplot as plt\n",
    "from bokeh.plotting import figure, show\n",
    "from ipywidgets import interact"
   ]
  },
  {
   "cell_type": "code",
   "execution_count": 2,
   "id": "f99836df-f425-4e49-b9d2-acbe047ae42e",
   "metadata": {},
   "outputs": [],
   "source": [
    "url = \"https://github.com/soilwater/mist/tree/main/data/Kansas%20State%20University\""
   ]
  },
  {
   "cell_type": "code",
   "execution_count": 5,
   "id": "279ad038-8baa-4b79-ac19-6b0e5a30fd2d",
   "metadata": {},
   "outputs": [],
   "source": [
    "def load_sensor_data(sensor):\n",
    "    site_1 = pd.read_csv(f'{url}/CR300-23667_Table_{sensor}.dat',skiprows=[0,2,3],parse_dates=[0], na_values=\"NAN\")\n",
    "    site_2 = pd.read_csv(f'{url}/CR300-10553_Table_{sensor}.dat',skiprows=[0,2,3],parse_dates=[0], na_values=\"NAN\")\n",
    "    site_3 = pd.read_csv(f'{url}/CR300-23666_Table_{sensor}.dat',skiprows=[0,2,3],parse_dates=[0], na_values=\"NAN\")\n",
    "    \n",
    "    variables = list(site_1.columns[6:])\n",
    "    N = len(variables)\n",
    "    \n",
    "    fig, axs = plt.subplots(N, figsize=(15,4*N),squeeze=False)\n",
    "    \n",
    "    for k,var in enumerate(variables):\n",
    "        axs[k,0].set_title(var.upper())\n",
    "        axs[k,0].plot(site_1['TIMESTAMP'], site_1[var], label='Site 1')\n",
    "        axs[k,0].plot(site_2['TIMESTAMP'], site_2[var], label='Site 2')\n",
    "        axs[k,0].plot(site_3['TIMESTAMP'], site_3[var], label='Site 3')\n",
    "        axs[k,0].legend()\n",
    "        \n",
    "    return axs\n"
   ]
  },
  {
   "cell_type": "code",
   "execution_count": 6,
   "id": "519f9a56-18c2-48a6-a247-4f6ffcb6f6de",
   "metadata": {},
   "outputs": [
    {
     "data": {
      "application/vnd.jupyter.widget-view+json": {
       "model_id": "fe310d42a45946caa85836820dd06919",
       "version_major": 2,
       "version_minor": 0
      },
      "text/plain": [
       "interactive(children=(Dropdown(description='sensor', options=('Batt', 'Acclima', 'CS655', 'DrillDrop', 'GroPoi…"
      ]
     },
     "metadata": {},
     "output_type": "display_data"
    }
   ],
   "source": [
    "select_sensor = interact(load_sensor_data,\n",
    "                         sensor=['Batt','Acclima','CS655','DrillDrop','GroPoint','SoilVue','Hydraprobe','Thetaprobe','Teros12','Teros21','TE525MM'])\n"
   ]
  },
  {
   "cell_type": "code",
   "execution_count": null,
   "id": "6d86dbe7-e215-46de-bd6a-b996c0efdb00",
   "metadata": {},
   "outputs": [],
   "source": []
  }
 ],
 "metadata": {
  "kernelspec": {
   "display_name": "Python 3 (ipykernel)",
   "language": "python",
   "name": "python3"
  },
  "language_info": {
   "codemirror_mode": {
    "name": "ipython",
    "version": 3
   },
   "file_extension": ".py",
   "mimetype": "text/x-python",
   "name": "python",
   "nbconvert_exporter": "python",
   "pygments_lexer": "ipython3",
   "version": "3.9.12"
  }
 },
 "nbformat": 4,
 "nbformat_minor": 5
}
