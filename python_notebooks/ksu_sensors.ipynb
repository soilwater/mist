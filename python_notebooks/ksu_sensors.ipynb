{
 "cells": [
  {
   "cell_type": "code",
   "execution_count": 1,
   "id": "2eaeef33-2441-4a8b-afcb-81903ee2ef5a",
   "metadata": {},
   "outputs": [],
   "source": [
    "# Graph sensor observations for K-State testbeds\n",
    "# AP - Novemeber 2022\n"
   ]
  },
  {
   "cell_type": "code",
   "execution_count": 6,
   "id": "355d93c7-4925-4ca6-a3b7-c05ad9d812d4",
   "metadata": {},
   "outputs": [],
   "source": [
    "# Import modules\n",
    "import pandas as pd\n",
    "import matplotlib.pyplot as plt\n",
    "from ipywidgets import interact\n"
   ]
  },
  {
   "cell_type": "markdown",
   "id": "fe39d10f-03e4-4178-b19c-9daa3924384a",
   "metadata": {},
   "source": [
    "metadata = {'Kansas_State_University':{\n",
    "            'sites':{'1':'CR300-23667', '2':'CR300-10553', '3':'CR300-23666'},\n",
    "            'other_sensors':['Batt','TE525MM'],\n",
    "            'sensors':{'Acclima':{'depths':['5','20','40'],'variables':['VWC','TEMP','EC','PERM']}},\n",
    "                      {'CS655':{'depths':['5','20','40'],'variables':['VWC','TEMP','EC','PERM']}},\n",
    "                      {'DrillDrop':{'depths':['5','15','25','35','45'],'variables':['VWC','TEMP','sal','PERM']}},\n",
    "                      {'GroPoint':{'depths':['5_15','10','20','30','40','50'],'variables':['VWC','TEMP','EC','PERM']}},\n",
    "                      {'SoilVue':{'depths':['5','10','20','30','40','50'],'variables':['VWC','TEMP','EC','PERM']}},\n",
    "                      {'Hydraprobe':{'depths':['5','20','40'],'variables':['VWC','TEMP','EC','PERM']}},\n",
    "                      {'Thetaprobe':{'depths':['5','20','40'],'variables':['VWC','TEMP','EC','PERM']}},\n",
    "                      {'Teros12':{'depths':['5','20','40'],'variables':['VWC','TEMP','EC','PERM']}},\n",
    "                      {'Teros21':{'depths':['5','20','40'],'variables':['VWC','TEMP','EC','PERM']}}\n",
    "           }\n"
   ]
  },
  {
   "cell_type": "code",
   "execution_count": 7,
   "id": "fe6e5d7d-3284-4014-b611-6d6779f44b37",
   "metadata": {},
   "outputs": [],
   "source": [
    "def load_sensor_data(sensor):\n",
    "    \n",
    "    # Root URL for the repository data\n",
    "    root = \"https://raw.githubusercontent.com/soilwater/mist/main/data/Kansas_State_University\"\n",
    "    site_1 = pd.read_csv(f'{root}/CR300-23667_Table_{sensor}.dat',skiprows=[0,2,3],parse_dates=[0], na_values=\"NAN\")\n",
    "    site_2 = pd.read_csv(f'{root}/CR300-10553_Table_{sensor}.dat',skiprows=[0,2,3],parse_dates=[0], na_values=\"NAN\")\n",
    "    site_3 = pd.read_csv(f'{root}/CR300-23666_Table_{sensor}.dat',skiprows=[0,2,3],parse_dates=[0], na_values=\"NAN\")\n",
    "    \n",
    "    # Read units from one of the sites\n",
    "    units = pd.read_csv(f'{root}/CR300-23667_Table_{sensor}.dat', skiprows=1, nrows=1, na_values=\"NAN\").iloc[0].values\n",
    "    \n",
    "    skip_cols = 6\n",
    "    variables = list(site_1.columns[skip_cols:])\n",
    "    N = len(variables)\n",
    "    \n",
    "    fig, axs = plt.subplots(N, figsize=(15,4*N),squeeze=False)\n",
    "    for k,var in enumerate(variables):\n",
    "        axs[k,0].set_title(var.upper())\n",
    "        axs[k,0].plot(site_1['TIMESTAMP'], site_1[var], label='Site 1')\n",
    "        axs[k,0].plot(site_2['TIMESTAMP'], site_2[var], label='Site 2')\n",
    "        axs[k,0].plot(site_3['TIMESTAMP'], site_3[var], label='Site 3')\n",
    "        axs[k,0].set_ylabel(units[k+skip_cols])\n",
    "        axs[k,0].legend()\n",
    "        \n",
    "    return axs\n"
   ]
  },
  {
   "cell_type": "code",
   "execution_count": 8,
   "id": "63425bf0-6180-49a4-b889-89a8589d5cd6",
   "metadata": {},
   "outputs": [],
   "source": [
    "# Create URL links to each variable\n"
   ]
  },
  {
   "cell_type": "code",
   "execution_count": 9,
   "id": "fa0a1f6e-03a3-41ef-9846-2339f531899d",
   "metadata": {},
   "outputs": [
    {
     "data": {
      "application/vnd.jupyter.widget-view+json": {
       "model_id": "6e614227554f4cafb92d81185152c434",
       "version_major": 2,
       "version_minor": 0
      },
      "text/plain": [
       "interactive(children=(Dropdown(description='sensor', options=('Batt', 'Acclima', 'CS655', 'DrillDrop', 'GroPoi…"
      ]
     },
     "metadata": {},
     "output_type": "display_data"
    }
   ],
   "source": [
    "# Dropdown menu to select a specific sensor\n",
    "select_sensor = interact(load_sensor_data,\n",
    "                         sensor=['Batt','Acclima','CS655','DrillDrop','GroPoint','SoilVue','Hydraprobe','Thetaprobe','Teros12','Teros21','TE525MM'])\n"
   ]
  },
  {
   "cell_type": "code",
   "execution_count": null,
   "id": "08c09d6e-8095-4c0a-86b0-d1eaa6f8354b",
   "metadata": {},
   "outputs": [],
   "source": []
  }
 ],
 "metadata": {
  "kernelspec": {
   "display_name": "Python 3 (ipykernel)",
   "language": "python",
   "name": "python3"
  },
  "language_info": {
   "codemirror_mode": {
    "name": "ipython",
    "version": 3
   },
   "file_extension": ".py",
   "mimetype": "text/x-python",
   "name": "python",
   "nbconvert_exporter": "python",
   "pygments_lexer": "ipython3",
   "version": "3.9.12"
  }
 },
 "nbformat": 4,
 "nbformat_minor": 5
}
